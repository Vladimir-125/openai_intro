{
 "cells": [
  {
   "attachments": {},
   "cell_type": "markdown",
   "metadata": {},
   "source": [
    "Read documentation for details.\n",
    "[Docs](https://platform.openai.com/docs/api-reference/completions/create)"
   ]
  },
  {
   "cell_type": "code",
   "execution_count": 31,
   "metadata": {},
   "outputs": [],
   "source": [
    "import os\n",
    "import json\n",
    "import openai\n",
    "from dotenv import dotenv_values\n",
    "from utils import get_answer\n",
    "\n",
    "config = dotenv_values(\".env\")\n",
    "openai.api_key = config['OPENAI_API_KEY']"
   ]
  },
  {
   "cell_type": "code",
   "execution_count": 19,
   "metadata": {},
   "outputs": [],
   "source": [
    "# explain the code\n",
    "prompt_text =\"\"\"\n",
    "# Python 3 \n",
    "def remove_common_prefix(x, prefix, ws_prefix): \n",
    "    x[\"completion\"] = x[\"completion\"].str[len(prefix) :] \n",
    "    if ws_prefix: \n",
    "        # keep the single whitespace as prefix \n",
    "        x[\"completion\"] = \" \" + x[\"completion\"] \n",
    "return x \n",
    "\n",
    "# Explanation of what the code does\n",
    "\"\"\"\n",
    "\n",
    "response = openai.Completion.create(\n",
    "  model=\"code-davinci-002\",\n",
    "  prompt=prompt_text,\n",
    "  temperature=0,\n",
    "  max_tokens=64,\n",
    "  top_p=1.0,\n",
    "  frequency_penalty=0.0,\n",
    "  presence_penalty=0.0\n",
    ")\n",
    "get_answer(response)"
   ]
  },
  {
   "cell_type": "code",
   "execution_count": 9,
   "metadata": {},
   "outputs": [],
   "source": [
    "# make a summary\n",
    "summary_tag = \"Tl;dr\"\n",
    "prompt_text = \"\"\"A neutron star is the collapsed core of a massive supergiant star, \n",
    "which had a total mass of between 10 and 25 solar masses, \n",
    "possibly more if the star was especially metal-rich.[1] \n",
    "Neutron stars are the smallest and densest stellar objects, \n",
    "excluding black holes and hypothetical white holes, quark stars, and strange stars.[2] \n",
    "Neutron stars have a radius on the order of 10 kilometres (6.2 mi) and a mass of about 1.4 solar masses.[3]\n",
    "They result from the supernova explosion of a massive star, combined with gravitational collapse, \n",
    "that compresses the core past white dwarf star density to that of atomic nuclei.\"\"\"\n",
    "\n",
    "response = openai.Completion.create(\n",
    "  model=\"text-davinci-003\",\n",
    "  prompt=prompt_text + summary_tag,\n",
    "  temperature=0.7, # Higher values means the model will take more risks for more creative applications, and closer to 0 for ones with a well-defined answer.\n",
    "  max_tokens=40,\n",
    "  top_p=1.0,\n",
    "  frequency_penalty=0.0,\n",
    "  presence_penalty=1\n",
    ")\n",
    "get_answer(response)"
   ]
  },
  {
   "cell_type": "code",
   "execution_count": 39,
   "metadata": {},
   "outputs": [
    {
     "name": "stdout",
     "output_type": "stream",
     "text": [
      "Answer 1:\n",
      "\n",
      "Jupiter is a very bright planet that is fifth from the Sun. It is bigger than all the other planets combined and has been known since ancient times. It is named after the Roman god Jupiter and can be seen in the night sky.\n"
     ]
    }
   ],
   "source": [
    "# Summarize for a second grader\n",
    "prompt_text = \"\"\"\n",
    "Summarize this for a second-grade student:\n",
    "\n",
    "Jupiter is the fifth planet from the Sun and the largest in the Solar System. \n",
    "It is a gas giant with a mass one-thousandth that of the Sun, but two-and-a-half \n",
    "times that of all the other planets in the Solar System combined. \n",
    "Jupiter is one of the brightest objects visible to the naked eye in the night sky, \n",
    "and has been known to ancient civilizations since before recorded history. \n",
    "It is named after the Roman god Jupiter.[19] When viewed from Earth, \n",
    "Jupiter can be bright enough for its reflected light to cast visible shadows,[20] \n",
    "and is on average the third-brightest natural object in the night sky after the Moon and Venus.\n",
    "\"\"\"\n",
    "response = openai.Completion.create(\n",
    "  model=\"text-davinci-003\",\n",
    "  prompt=prompt_text,\n",
    "  temperature=0.7,\n",
    "  max_tokens=64,\n",
    "  top_p=1.0,\n",
    "  frequency_penalty=0.0,\n",
    "  presence_penalty=0.0\n",
    ")\n",
    "get_answer(response)"
   ]
  },
  {
   "cell_type": "code",
   "execution_count": 26,
   "metadata": {},
   "outputs": [],
   "source": [
    "# Question Answering\n",
    "prompt_text = \"\"\"\n",
    "Q: Where is the Valley of Kings?\n",
    "A:\n",
    "\"\"\"\n",
    "response = openai.Completion.create(\n",
    "  model=\"text-davinci-003\",\n",
    "  prompt=prompt_text,\n",
    "  temperature=0,\n",
    "  max_tokens=100,\n",
    "  top_p=1,\n",
    "  frequency_penalty=0.0,\n",
    "  presence_penalty=0.0,\n",
    "  stop=[\"\\n\"]\n",
    ")\n",
    "get_answer(response)"
   ]
  },
  {
   "cell_type": "code",
   "execution_count": 36,
   "metadata": {},
   "outputs": [
    {
     "name": "stdout",
     "output_type": "stream",
     "text": [
      "Answer 1:\n",
      "ML Tutor: Some well-known examples of language models include n-gram models, recurrent neural networks (RNNs), and transformers.\n"
     ]
    }
   ],
   "source": [
    "# Chatbot\n",
    "prompt_text = \"\"\"\n",
    "ML Tutor: I am a ML/AI language model tutor\n",
    "You: What is a language model?\n",
    "ML Tutor: A language model is a statistical model that describes the probability of a word given the previous words.\n",
    "You: Give me some well known examples.\n",
    "\"\"\"\n",
    "response = openai.Completion.create(\n",
    "  model=\"text-davinci-003\",\n",
    "  prompt=prompt_text,\n",
    "  temperature=0.3,\n",
    "  max_tokens=60,\n",
    "  top_p=1.0,\n",
    "  frequency_penalty=0.5,\n",
    "  presence_penalty=0.0,\n",
    "  stop=[\"You:\"]\n",
    ")\n",
    "get_answer(response)"
   ]
  },
  {
   "cell_type": "code",
   "execution_count": 38,
   "metadata": {},
   "outputs": [
    {
     "name": "stdout",
     "output_type": "stream",
     "text": [
      "Answer 1:\n",
      "No problem! Can I ask why you're cancelling your subscription? Is there anything I can do to make it easier?\n"
     ]
    }
   ],
   "source": [
    "# Open ended conversation with an AI assistant.\n",
    "prompt_text = \"\"\"\n",
    "The following is a conversation with an AI assistant. The assistant is helpful, creative, clever, and very friendly.\n",
    "\n",
    "Human: Hello, who are you?\n",
    "AI: I am an AI created by OpenAI. How can I help you today?\n",
    "Human: I'd like to cancel my subscription.\n",
    "AI:\n",
    "\"\"\"\n",
    "response = openai.Completion.create(\n",
    "  model=\"text-davinci-003\",\n",
    "  prompt=prompt_text,\n",
    "  temperature=0.9,\n",
    "  max_tokens=150,\n",
    "  top_p=1,\n",
    "  frequency_penalty=0.0,\n",
    "  presence_penalty=0.6,\n",
    "  stop=[\" Human:\", \" AI:\"]\n",
    ")\n",
    "get_answer(response)"
   ]
  },
  {
   "cell_type": "code",
   "execution_count": 33,
   "metadata": {},
   "outputs": [],
   "source": [
    "# Ad Generation\n",
    "prompt_text = \"\"\"\n",
    "Write a creative ad for the following product to run on Facebook aimed at parents:\n",
    "\n",
    "Product: Learning Room is a virtual environment to help students from kindergarten to high school excel in school.\n",
    "\"\"\"\n",
    "response = openai.Completion.create(\n",
    "  model=\"text-davinci-003\",\n",
    "  prompt=prompt_text,\n",
    "  temperature=0.5,\n",
    "  max_tokens=100,\n",
    "  top_p=1.0,\n",
    "  frequency_penalty=0.0,\n",
    "  presence_penalty=0.0\n",
    ")\n",
    "get_answer(response)"
   ]
  },
  {
   "cell_type": "code",
   "execution_count": 35,
   "metadata": {},
   "outputs": [
    {
     "name": "stdout",
     "output_type": "stream",
     "text": [
      "Answer 1:\n",
      "\n",
      "Keywords: Black-on-black ware, 20th century, 21st century, Puebloan Native American ceramic artists, Northern New Mexico, reduction-fired blackware, pueblo artists, smooth surface, burnishing refractory slip, carving incising designs, polishing raised\n"
     ]
    }
   ],
   "source": [
    "# Keyword extraction\n",
    "prompt_text = \"\"\"\n",
    "Extract keywords from this text:\n",
    "\n",
    "Black-on-black ware is a 20th- and 21st-century pottery tradition \n",
    "developed by the Puebloan Native American ceramic artists in Northern New Mexico. \n",
    "Traditional reduction-fired blackware has been made for centuries by pueblo artists.\n",
    "Black-on-black ware of the past century is produced with a smooth surface, \n",
    "with the designs applied through selective burnishing or the application of refractory slip. \n",
    "Another style involves carving or incising designs and selectively polishing the raised areas. \n",
    "For generations several families from Kha'po Owingeh and P'ohwhóge Owingeh \n",
    "pueblos have been making black-on-black ware with the techniques passed down from matriarch potters. \n",
    "Artists from other pueblos have also produced black-on-black ware. \n",
    "Several contemporary artists have created works honoring the pottery of their ancestors.\n",
    "\"\"\"\n",
    "response = openai.Completion.create(\n",
    "  model=\"text-davinci-003\",\n",
    "  prompt=prompt_text,\n",
    "  temperature=0.5,\n",
    "  max_tokens=60,\n",
    "  top_p=1.0,\n",
    "  frequency_penalty=0.8,\n",
    "  presence_penalty=0.0\n",
    ")\n",
    "get_answer(response)"
   ]
  },
  {
   "cell_type": "code",
   "execution_count": 37,
   "metadata": {},
   "outputs": [
    {
     "name": "stdout",
     "output_type": "stream",
     "text": [
      "Answer 1:\n",
      "\n",
      "I. Introduction \n",
      "A. Definition of Nikola Tesla\n",
      "B. Overview of his life\n",
      "\n",
      "II. Early Life and Education\n",
      "A. Childhood in Croatia\n",
      "B. Education in Graz and Prague\n",
      "\n",
      "III. Career\n",
      "A. Early Work in Budapest and Paris\n",
      "B. Move to the United States\n",
      "C. Work at Thomas Edison's Lab\n",
      "\n",
      "IV. Contributions to Technology\n",
      "A. Alternating Current\n",
      "B. Radio\n",
      "C. Remote Control\n",
      "D. Robotics\n",
      "\n",
      "V. Legacy\n",
      "A. Awards and Recognition\n",
      "B. Impact on Modern Technology\n",
      "\n",
      "VI. Conclusion\n"
     ]
    }
   ],
   "source": [
    "# Write and essay\n",
    "prompt_text = \"\"\"\n",
    "Create an outline for an essay about Nikola Tesla and his contributions to technology:\n",
    "\"\"\"\n",
    "response = openai.Completion.create(\n",
    "  model=\"text-davinci-003\",\n",
    "  prompt=prompt_text,\n",
    "  temperature=0.3,\n",
    "  max_tokens=150,\n",
    "  top_p=1.0,\n",
    "  frequency_penalty=0.0,\n",
    "  presence_penalty=0.0\n",
    ")\n",
    "get_answer(response)"
   ]
  },
  {
   "cell_type": "markdown",
   "metadata": {},
   "source": [
    "More exanples can be found here: https://platform.openai.com/examples"
   ]
  }
 ],
 "metadata": {
  "kernelspec": {
   "display_name": "openai",
   "language": "python",
   "name": "python3"
  },
  "language_info": {
   "codemirror_mode": {
    "name": "ipython",
    "version": 3
   },
   "file_extension": ".py",
   "mimetype": "text/x-python",
   "name": "python",
   "nbconvert_exporter": "python",
   "pygments_lexer": "ipython3",
   "version": "3.10.9"
  },
  "orig_nbformat": 4,
  "vscode": {
   "interpreter": {
    "hash": "3cc276d42dcfe1310d7c61773921416fa45fa34b8837f011bc6898c7a24804e2"
   }
  }
 },
 "nbformat": 4,
 "nbformat_minor": 2
}
